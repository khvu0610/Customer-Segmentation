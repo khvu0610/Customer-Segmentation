{
 "cells": [
  {
   "cell_type": "code",
   "execution_count": 12,
   "metadata": {},
   "outputs": [],
   "source": [
    "# import libraries\n",
    "import pandas as pd \n",
    "import numpy as np \n",
    "import seaborn as sns \n",
    "import matplotlib.pyplot as plt \n",
    "import calendar \n",
    "import datetime as dt  \n",
    "%matplotlib inline "
   ]
  },
  {
   "cell_type": "code",
   "execution_count": 13,
   "metadata": {},
   "outputs": [],
   "source": [
    "# read in customer_demographic sheet from file\n",
    "customer_demographic = pd.read_excel('D:\\OneDrive\\Máy tính\\KPMG_VI_New_raw_data_update_final.xlsx\\KPMG_VI_New_raw_data_update_final.xlsx', sheet_name='CustomerDemographic', header=1)"
   ]
  },
  {
   "cell_type": "code",
   "execution_count": 14,
   "metadata": {},
   "outputs": [
    {
     "data": {
      "text/html": [
       "<div>\n",
       "<style scoped>\n",
       "    .dataframe tbody tr th:only-of-type {\n",
       "        vertical-align: middle;\n",
       "    }\n",
       "\n",
       "    .dataframe tbody tr th {\n",
       "        vertical-align: top;\n",
       "    }\n",
       "\n",
       "    .dataframe thead th {\n",
       "        text-align: right;\n",
       "    }\n",
       "</style>\n",
       "<table border=\"1\" class=\"dataframe\">\n",
       "  <thead>\n",
       "    <tr style=\"text-align: right;\">\n",
       "      <th></th>\n",
       "      <th>customer_id</th>\n",
       "      <th>first_name</th>\n",
       "      <th>last_name</th>\n",
       "      <th>gender</th>\n",
       "      <th>past_3_years_bike_related_purchases</th>\n",
       "      <th>DOB</th>\n",
       "      <th>job_title</th>\n",
       "      <th>job_industry_category</th>\n",
       "      <th>wealth_segment</th>\n",
       "      <th>deceased_indicator</th>\n",
       "      <th>default</th>\n",
       "      <th>owns_car</th>\n",
       "      <th>tenure</th>\n",
       "    </tr>\n",
       "  </thead>\n",
       "  <tbody>\n",
       "    <tr>\n",
       "      <th>0</th>\n",
       "      <td>1</td>\n",
       "      <td>Laraine</td>\n",
       "      <td>Medendorp</td>\n",
       "      <td>F</td>\n",
       "      <td>93</td>\n",
       "      <td>1953-10-12 00:00:00</td>\n",
       "      <td>Executive Secretary</td>\n",
       "      <td>Health</td>\n",
       "      <td>Mass Customer</td>\n",
       "      <td>N</td>\n",
       "      <td>\"'</td>\n",
       "      <td>Yes</td>\n",
       "      <td>11.0</td>\n",
       "    </tr>\n",
       "    <tr>\n",
       "      <th>1</th>\n",
       "      <td>2</td>\n",
       "      <td>Eli</td>\n",
       "      <td>Bockman</td>\n",
       "      <td>Male</td>\n",
       "      <td>81</td>\n",
       "      <td>1980-12-16 00:00:00</td>\n",
       "      <td>Administrative Officer</td>\n",
       "      <td>Financial Services</td>\n",
       "      <td>Mass Customer</td>\n",
       "      <td>N</td>\n",
       "      <td>&lt;script&gt;alert('hi')&lt;/script&gt;</td>\n",
       "      <td>Yes</td>\n",
       "      <td>16.0</td>\n",
       "    </tr>\n",
       "    <tr>\n",
       "      <th>2</th>\n",
       "      <td>3</td>\n",
       "      <td>Arlin</td>\n",
       "      <td>Dearle</td>\n",
       "      <td>Male</td>\n",
       "      <td>61</td>\n",
       "      <td>1954-01-20 00:00:00</td>\n",
       "      <td>Recruiting Manager</td>\n",
       "      <td>Property</td>\n",
       "      <td>Mass Customer</td>\n",
       "      <td>N</td>\n",
       "      <td>2018-02-01 00:00:00</td>\n",
       "      <td>Yes</td>\n",
       "      <td>15.0</td>\n",
       "    </tr>\n",
       "    <tr>\n",
       "      <th>3</th>\n",
       "      <td>4</td>\n",
       "      <td>Talbot</td>\n",
       "      <td>NaN</td>\n",
       "      <td>Male</td>\n",
       "      <td>33</td>\n",
       "      <td>1961-10-03 00:00:00</td>\n",
       "      <td>NaN</td>\n",
       "      <td>IT</td>\n",
       "      <td>Mass Customer</td>\n",
       "      <td>N</td>\n",
       "      <td>() { _; } &gt;_[$($())] { touch /tmp/blns.shellsh...</td>\n",
       "      <td>No</td>\n",
       "      <td>7.0</td>\n",
       "    </tr>\n",
       "    <tr>\n",
       "      <th>4</th>\n",
       "      <td>5</td>\n",
       "      <td>Sheila-kathryn</td>\n",
       "      <td>Calton</td>\n",
       "      <td>Female</td>\n",
       "      <td>56</td>\n",
       "      <td>1977-05-13 00:00:00</td>\n",
       "      <td>Senior Editor</td>\n",
       "      <td>NaN</td>\n",
       "      <td>Affluent Customer</td>\n",
       "      <td>N</td>\n",
       "      <td>NIL</td>\n",
       "      <td>Yes</td>\n",
       "      <td>8.0</td>\n",
       "    </tr>\n",
       "    <tr>\n",
       "      <th>...</th>\n",
       "      <td>...</td>\n",
       "      <td>...</td>\n",
       "      <td>...</td>\n",
       "      <td>...</td>\n",
       "      <td>...</td>\n",
       "      <td>...</td>\n",
       "      <td>...</td>\n",
       "      <td>...</td>\n",
       "      <td>...</td>\n",
       "      <td>...</td>\n",
       "      <td>...</td>\n",
       "      <td>...</td>\n",
       "      <td>...</td>\n",
       "    </tr>\n",
       "    <tr>\n",
       "      <th>3995</th>\n",
       "      <td>3996</td>\n",
       "      <td>Rosalia</td>\n",
       "      <td>Halgarth</td>\n",
       "      <td>Female</td>\n",
       "      <td>8</td>\n",
       "      <td>1975-08-09 00:00:00</td>\n",
       "      <td>VP Product Management</td>\n",
       "      <td>Health</td>\n",
       "      <td>Mass Customer</td>\n",
       "      <td>N</td>\n",
       "      <td>-100</td>\n",
       "      <td>No</td>\n",
       "      <td>19.0</td>\n",
       "    </tr>\n",
       "    <tr>\n",
       "      <th>3996</th>\n",
       "      <td>3997</td>\n",
       "      <td>Blanch</td>\n",
       "      <td>Nisuis</td>\n",
       "      <td>Female</td>\n",
       "      <td>87</td>\n",
       "      <td>2001-07-13 00:00:00</td>\n",
       "      <td>Statistician II</td>\n",
       "      <td>Manufacturing</td>\n",
       "      <td>High Net Worth</td>\n",
       "      <td>N</td>\n",
       "      <td>â¦testâ§</td>\n",
       "      <td>Yes</td>\n",
       "      <td>1.0</td>\n",
       "    </tr>\n",
       "    <tr>\n",
       "      <th>3997</th>\n",
       "      <td>3998</td>\n",
       "      <td>Sarene</td>\n",
       "      <td>Woolley</td>\n",
       "      <td>U</td>\n",
       "      <td>60</td>\n",
       "      <td>NaN</td>\n",
       "      <td>Assistant Manager</td>\n",
       "      <td>IT</td>\n",
       "      <td>High Net Worth</td>\n",
       "      <td>N</td>\n",
       "      <td>NaN</td>\n",
       "      <td>No</td>\n",
       "      <td>NaN</td>\n",
       "    </tr>\n",
       "    <tr>\n",
       "      <th>3998</th>\n",
       "      <td>3999</td>\n",
       "      <td>Patrizius</td>\n",
       "      <td>NaN</td>\n",
       "      <td>Male</td>\n",
       "      <td>11</td>\n",
       "      <td>1973-10-24 00:00:00</td>\n",
       "      <td>NaN</td>\n",
       "      <td>Manufacturing</td>\n",
       "      <td>Affluent Customer</td>\n",
       "      <td>N</td>\n",
       "      <td>Â¡â¢Â£Â¢âÂ§Â¶â¢ÂªÂºââ</td>\n",
       "      <td>Yes</td>\n",
       "      <td>10.0</td>\n",
       "    </tr>\n",
       "    <tr>\n",
       "      <th>3999</th>\n",
       "      <td>4000</td>\n",
       "      <td>Kippy</td>\n",
       "      <td>Oldland</td>\n",
       "      <td>Male</td>\n",
       "      <td>76</td>\n",
       "      <td>1991-11-05 00:00:00</td>\n",
       "      <td>Software Engineer IV</td>\n",
       "      <td>NaN</td>\n",
       "      <td>Affluent Customer</td>\n",
       "      <td>N</td>\n",
       "      <td>0/0</td>\n",
       "      <td>No</td>\n",
       "      <td>11.0</td>\n",
       "    </tr>\n",
       "  </tbody>\n",
       "</table>\n",
       "<p>4000 rows × 13 columns</p>\n",
       "</div>"
      ],
      "text/plain": [
       "      customer_id      first_name  last_name  gender  \\\n",
       "0               1         Laraine  Medendorp       F   \n",
       "1               2             Eli    Bockman    Male   \n",
       "2               3           Arlin     Dearle    Male   \n",
       "3               4          Talbot        NaN    Male   \n",
       "4               5  Sheila-kathryn     Calton  Female   \n",
       "...           ...             ...        ...     ...   \n",
       "3995         3996         Rosalia   Halgarth  Female   \n",
       "3996         3997          Blanch     Nisuis  Female   \n",
       "3997         3998          Sarene    Woolley       U   \n",
       "3998         3999       Patrizius        NaN    Male   \n",
       "3999         4000           Kippy    Oldland    Male   \n",
       "\n",
       "      past_3_years_bike_related_purchases                  DOB  \\\n",
       "0                                      93  1953-10-12 00:00:00   \n",
       "1                                      81  1980-12-16 00:00:00   \n",
       "2                                      61  1954-01-20 00:00:00   \n",
       "3                                      33  1961-10-03 00:00:00   \n",
       "4                                      56  1977-05-13 00:00:00   \n",
       "...                                   ...                  ...   \n",
       "3995                                    8  1975-08-09 00:00:00   \n",
       "3996                                   87  2001-07-13 00:00:00   \n",
       "3997                                   60                  NaN   \n",
       "3998                                   11  1973-10-24 00:00:00   \n",
       "3999                                   76  1991-11-05 00:00:00   \n",
       "\n",
       "                   job_title job_industry_category     wealth_segment  \\\n",
       "0        Executive Secretary                Health      Mass Customer   \n",
       "1     Administrative Officer    Financial Services      Mass Customer   \n",
       "2         Recruiting Manager              Property      Mass Customer   \n",
       "3                        NaN                    IT      Mass Customer   \n",
       "4              Senior Editor                   NaN  Affluent Customer   \n",
       "...                      ...                   ...                ...   \n",
       "3995   VP Product Management                Health      Mass Customer   \n",
       "3996         Statistician II         Manufacturing     High Net Worth   \n",
       "3997       Assistant Manager                    IT     High Net Worth   \n",
       "3998                     NaN         Manufacturing  Affluent Customer   \n",
       "3999    Software Engineer IV                   NaN  Affluent Customer   \n",
       "\n",
       "     deceased_indicator                                            default  \\\n",
       "0                     N                                                 \"'   \n",
       "1                     N                       <script>alert('hi')</script>   \n",
       "2                     N                                2018-02-01 00:00:00   \n",
       "3                     N  () { _; } >_[$($())] { touch /tmp/blns.shellsh...   \n",
       "4                     N                                                NIL   \n",
       "...                 ...                                                ...   \n",
       "3995                  N                                               -100   \n",
       "3996                  N                                           â¦testâ§   \n",
       "3997                  N                                                NaN   \n",
       "3998                  N                             Â¡â¢Â£Â¢âÂ§Â¶â¢ÂªÂºââ    \n",
       "3999                  N                                                0/0   \n",
       "\n",
       "     owns_car  tenure  \n",
       "0         Yes    11.0  \n",
       "1         Yes    16.0  \n",
       "2         Yes    15.0  \n",
       "3          No     7.0  \n",
       "4         Yes     8.0  \n",
       "...       ...     ...  \n",
       "3995       No    19.0  \n",
       "3996      Yes     1.0  \n",
       "3997       No     NaN  \n",
       "3998      Yes    10.0  \n",
       "3999       No    11.0  \n",
       "\n",
       "[4000 rows x 13 columns]"
      ]
     },
     "execution_count": 14,
     "metadata": {},
     "output_type": "execute_result"
    }
   ],
   "source": [
    "customer_demographic"
   ]
  },
  {
   "cell_type": "code",
   "execution_count": 15,
   "metadata": {},
   "outputs": [
    {
     "name": "stdout",
     "output_type": "stream",
     "text": [
      "<class 'pandas.core.frame.DataFrame'>\n",
      "RangeIndex: 4000 entries, 0 to 3999\n",
      "Data columns (total 13 columns):\n",
      " #   Column                               Non-Null Count  Dtype  \n",
      "---  ------                               --------------  -----  \n",
      " 0   customer_id                          4000 non-null   int64  \n",
      " 1   first_name                           4000 non-null   object \n",
      " 2   last_name                            3875 non-null   object \n",
      " 3   gender                               4000 non-null   object \n",
      " 4   past_3_years_bike_related_purchases  4000 non-null   int64  \n",
      " 5   DOB                                  3913 non-null   object \n",
      " 6   job_title                            3494 non-null   object \n",
      " 7   job_industry_category                3344 non-null   object \n",
      " 8   wealth_segment                       4000 non-null   object \n",
      " 9   deceased_indicator                   4000 non-null   object \n",
      " 10  default                              3698 non-null   object \n",
      " 11  owns_car                             4000 non-null   object \n",
      " 12  tenure                               3913 non-null   float64\n",
      "dtypes: float64(1), int64(2), object(10)\n",
      "memory usage: 406.4+ KB\n"
     ]
    }
   ],
   "source": [
    "# check summary statistics\n",
    "customer_demographic.info()"
   ]
  },
  {
   "cell_type": "markdown",
   "metadata": {},
   "source": [
    "Intital Observations:\n",
    "\n",
    "After examining the dataframe, the identified issues are:\n",
    "\n",
    "past_3_years_bike_related_purchases,tenure is stored as object, instaed of numerical format, potentially affecting data analysis.\n",
    "\n",
    "DOB is stored as object where it should be converted to datetime.\n",
    "\n",
    "Multiple columns have missing values that need addressing before analysis: last_name,DOB,job_title,job_industry_category,default,tenure.\n",
    "\n",
    "Oldest customer born in 1843, identified as 179 years old, showing a lack of consistency.\n",
    "\n",
    "Only 2 out of 4000 customers identified as deceased.\n",
    "\n",
    "Gender column values: Male(1872), M(1), Female(2037), F/Femal(2), Unisexual(U)(88) lacks consistency.\n",
    "\n",
    "Phik correlation shows no correlation between most variables, except for Gender and Job Industry."
   ]
  },
  {
   "cell_type": "markdown",
   "metadata": {},
   "source": [
    "Features Engineering:\n",
    "\n",
    "The following strategies can be used to handle missing data:\n",
    "\n",
    "Fill missing values with the mean for continuous variables without outliers.\n",
    "\n",
    "Fill missing values with the median for continuous variables with outliers.\n",
    "\n",
    "Fill missing values with the mode for categorical variables.\n",
    "\n",
    "Use forward-fill (ffill) or backward-fill (bfill) methods to fill missing data.\n",
    "\n",
    "Drop the entire variable if there are a large number of missing data points.\n",
    "\n",
    "Drop rows containing null values if they won't significantly impact the analysis."
   ]
  },
  {
   "cell_type": "code",
   "execution_count": 16,
   "metadata": {},
   "outputs": [
    {
     "data": {
      "text/plain": [
       "customer_id                              0\n",
       "first_name                               0\n",
       "last_name                              125\n",
       "gender                                   0\n",
       "past_3_years_bike_related_purchases      0\n",
       "DOB                                     87\n",
       "job_title                              506\n",
       "job_industry_category                  656\n",
       "wealth_segment                           0\n",
       "deceased_indicator                       0\n",
       "default                                302\n",
       "owns_car                                 0\n",
       "tenure                                  87\n",
       "dtype: int64"
      ]
     },
     "execution_count": 16,
     "metadata": {},
     "output_type": "execute_result"
    }
   ],
   "source": [
    "# count missing values in each variable\n",
    "customer_demographic.isnull().sum()"
   ]
  },
  {
   "cell_type": "code",
   "execution_count": 17,
   "metadata": {},
   "outputs": [
    {
     "data": {
      "text/plain": [
       "customer_id                             0.000\n",
       "first_name                              0.000\n",
       "last_name                               3.125\n",
       "gender                                  0.000\n",
       "past_3_years_bike_related_purchases     0.000\n",
       "DOB                                     2.175\n",
       "job_title                              12.650\n",
       "job_industry_category                  16.400\n",
       "wealth_segment                          0.000\n",
       "deceased_indicator                      0.000\n",
       "default                                 7.550\n",
       "owns_car                                0.000\n",
       "tenure                                  2.175\n",
       "dtype: float64"
      ]
     },
     "execution_count": 17,
     "metadata": {},
     "output_type": "execute_result"
    }
   ],
   "source": [
    "# calculate missing value percentage for each column\n",
    "customer_demographic.isnull().mean() * 100"
   ]
  },
  {
   "cell_type": "markdown",
   "metadata": {},
   "source": [
    "Missing Data:\n",
    "\n",
    "Steps to address missing data:\n",
    "\n",
    "last_name: has just 3.1% missing values, so we fill nulls with mode.\n",
    "\n",
    "DOB: has 2.2% so we fill nulls with mode.\n",
    "\n",
    "job_title: has 12.6% we will fill these values with mode.\n",
    "\n",
    "job_industry_category: has 16.4% so we fill nulls with mode.\n",
    "\n",
    "default: has 7.6% so we fill nulls with mode.\n",
    "\n",
    "tenure: has 2.2% missing from the column so we will fill it with mean."
   ]
  },
  {
   "cell_type": "code",
   "execution_count": 18,
   "metadata": {},
   "outputs": [],
   "source": [
    "customer_demographic = customer_demographic.drop(columns=['default'])"
   ]
  },
  {
   "cell_type": "code",
   "execution_count": 19,
   "metadata": {},
   "outputs": [],
   "source": [
    "# fill missing values in the 'follwoing' columns with the mode value\n",
    "customer_demographic['last_name'] = customer_demographic['last_name'].fillna(customer_demographic['last_name'].mode()[0])\n",
    "customer_demographic['DOB'] = customer_demographic['DOB'].fillna(customer_demographic['DOB'].mode()[0])\n",
    "customer_demographic['job_title'] = customer_demographic['job_title'].fillna(customer_demographic['job_title'].mode()[0])\n",
    "customer_demographic['job_industry_category'] = customer_demographic['job_industry_category'].fillna(customer_demographic['job_industry_category'].mode()[0])\n",
    "# fill missing values in the 'tenure' columns with the mean value\n",
    "customer_demographic['tenure'] = customer_demographic['tenure'].fillna(customer_demographic['tenure'].mean())"
   ]
  },
  {
   "cell_type": "code",
   "execution_count": 38,
   "metadata": {},
   "outputs": [
    {
     "data": {
      "text/plain": [
       "customer_id                            0\n",
       "first_name                             0\n",
       "last_name                              0\n",
       "gender                                 0\n",
       "past_3_years_bike_related_purchases    0\n",
       "DOB                                    0\n",
       "job_title                              0\n",
       "job_industry_category                  0\n",
       "wealth_segment                         0\n",
       "deceased_indicator                     0\n",
       "owns_car                               0\n",
       "tenure                                 0\n",
       "age                                    0\n",
       "age_group                              0\n",
       "dtype: int64"
      ]
     },
     "execution_count": 38,
     "metadata": {},
     "output_type": "execute_result"
    }
   ],
   "source": [
    "# check results of updated dataframe\n",
    "customer_demographic.isnull().sum()"
   ]
  },
  {
   "cell_type": "code",
   "execution_count": 21,
   "metadata": {},
   "outputs": [],
   "source": [
    "# amend column data types\n",
    "customer_demographic['past_3_years_bike_related_purchases']=customer_demographic['past_3_years_bike_related_purchases'].astype('int')\n",
    "customer_demographic['tenure']=customer_demographic['tenure'].astype('float')\n",
    "customer_demographic['DOB']=customer_demographic['DOB'].astype('datetime64[ns]')"
   ]
  },
  {
   "cell_type": "code",
   "execution_count": 22,
   "metadata": {},
   "outputs": [
    {
     "data": {
      "text/html": [
       "<div>\n",
       "<style scoped>\n",
       "    .dataframe tbody tr th:only-of-type {\n",
       "        vertical-align: middle;\n",
       "    }\n",
       "\n",
       "    .dataframe tbody tr th {\n",
       "        vertical-align: top;\n",
       "    }\n",
       "\n",
       "    .dataframe thead th {\n",
       "        text-align: right;\n",
       "    }\n",
       "</style>\n",
       "<table border=\"1\" class=\"dataframe\">\n",
       "  <thead>\n",
       "    <tr style=\"text-align: right;\">\n",
       "      <th></th>\n",
       "      <th>customer_id</th>\n",
       "      <th>first_name</th>\n",
       "      <th>last_name</th>\n",
       "      <th>gender</th>\n",
       "      <th>past_3_years_bike_related_purchases</th>\n",
       "      <th>DOB</th>\n",
       "      <th>job_title</th>\n",
       "      <th>job_industry_category</th>\n",
       "      <th>wealth_segment</th>\n",
       "      <th>deceased_indicator</th>\n",
       "      <th>owns_car</th>\n",
       "      <th>tenure</th>\n",
       "    </tr>\n",
       "  </thead>\n",
       "  <tbody>\n",
       "  </tbody>\n",
       "</table>\n",
       "</div>"
      ],
      "text/plain": [
       "Empty DataFrame\n",
       "Columns: [customer_id, first_name, last_name, gender, past_3_years_bike_related_purchases, DOB, job_title, job_industry_category, wealth_segment, deceased_indicator, owns_car, tenure]\n",
       "Index: []"
      ]
     },
     "execution_count": 22,
     "metadata": {},
     "output_type": "execute_result"
    }
   ],
   "source": [
    "# check for duplicated rows\n",
    "customer_demographic[customer_demographic.duplicated()]"
   ]
  },
  {
   "cell_type": "code",
   "execution_count": 23,
   "metadata": {},
   "outputs": [
    {
     "name": "stdout",
     "output_type": "stream",
     "text": [
      "('customer_id', True)\n",
      "('first_name', False)\n",
      "('last_name', False)\n",
      "('gender', False)\n",
      "('past_3_years_bike_related_purchases', False)\n",
      "('DOB', False)\n",
      "('job_title', False)\n",
      "('job_industry_category', False)\n",
      "('wealth_segment', False)\n",
      "('deceased_indicator', False)\n",
      "('owns_car', False)\n",
      "('tenure', False)\n"
     ]
    }
   ],
   "source": [
    "# check unique values of all columns\n",
    "column_names = customer_demographic.columns\n",
    "for i in column_names:\n",
    "  print((i, customer_demographic[i].is_unique))"
   ]
  },
  {
   "cell_type": "code",
   "execution_count": 24,
   "metadata": {},
   "outputs": [
    {
     "data": {
      "text/plain": [
       "gender\n",
       "Female    2037\n",
       "Male      1872\n",
       "U           88\n",
       "F            1\n",
       "Femal        1\n",
       "M            1\n",
       "Name: count, dtype: int64"
      ]
     },
     "execution_count": 24,
     "metadata": {},
     "output_type": "execute_result"
    }
   ],
   "source": [
    "# count unique values of 'gender' column\n",
    "customer_demographic['gender'].value_counts()"
   ]
  },
  {
   "cell_type": "code",
   "execution_count": 39,
   "metadata": {},
   "outputs": [
    {
     "data": {
      "text/plain": [
       "age_group\n",
       "31-50    2002\n",
       "51-70    1312\n",
       "20-30     591\n",
       "71-92       5\n",
       "Name: count, dtype: int64"
      ]
     },
     "execution_count": 39,
     "metadata": {},
     "output_type": "execute_result"
    }
   ],
   "source": [
    "# count unique values of 'gender' column\n",
    "customer_demographic['age_group'].value_counts()"
   ]
  },
  {
   "cell_type": "code",
   "execution_count": 25,
   "metadata": {},
   "outputs": [
    {
     "data": {
      "text/plain": [
       "gender\n",
       "Female         2039\n",
       "Male           1873\n",
       "Unspecified      88\n",
       "Name: count, dtype: int64"
      ]
     },
     "execution_count": 25,
     "metadata": {},
     "output_type": "execute_result"
    }
   ],
   "source": [
    "# replace inconsistent values with appropriate values\n",
    "customer_demographic['gender'] = customer_demographic['gender'].replace('F','Female').replace('M','Male').replace('Femal','Female').replace('U','Unspecified')\n",
    "customer_demographic['gender'].value_counts()"
   ]
  },
  {
   "cell_type": "code",
   "execution_count": 26,
   "metadata": {},
   "outputs": [
    {
     "data": {
      "text/html": [
       "<div>\n",
       "<style scoped>\n",
       "    .dataframe tbody tr th:only-of-type {\n",
       "        vertical-align: middle;\n",
       "    }\n",
       "\n",
       "    .dataframe tbody tr th {\n",
       "        vertical-align: top;\n",
       "    }\n",
       "\n",
       "    .dataframe thead th {\n",
       "        text-align: right;\n",
       "    }\n",
       "</style>\n",
       "<table border=\"1\" class=\"dataframe\">\n",
       "  <thead>\n",
       "    <tr style=\"text-align: right;\">\n",
       "      <th></th>\n",
       "      <th>customer_id</th>\n",
       "      <th>first_name</th>\n",
       "      <th>last_name</th>\n",
       "      <th>gender</th>\n",
       "      <th>past_3_years_bike_related_purchases</th>\n",
       "      <th>DOB</th>\n",
       "      <th>job_title</th>\n",
       "      <th>job_industry_category</th>\n",
       "      <th>wealth_segment</th>\n",
       "      <th>deceased_indicator</th>\n",
       "      <th>owns_car</th>\n",
       "      <th>tenure</th>\n",
       "    </tr>\n",
       "  </thead>\n",
       "  <tbody>\n",
       "    <tr>\n",
       "      <th>0</th>\n",
       "      <td>1</td>\n",
       "      <td>Laraine</td>\n",
       "      <td>Medendorp</td>\n",
       "      <td>Female</td>\n",
       "      <td>93</td>\n",
       "      <td>1953-10-12</td>\n",
       "      <td>Executive Secretary</td>\n",
       "      <td>Health</td>\n",
       "      <td>Mass Customer</td>\n",
       "      <td>N</td>\n",
       "      <td>Yes</td>\n",
       "      <td>11.0</td>\n",
       "    </tr>\n",
       "    <tr>\n",
       "      <th>1</th>\n",
       "      <td>2</td>\n",
       "      <td>Eli</td>\n",
       "      <td>Bockman</td>\n",
       "      <td>Male</td>\n",
       "      <td>81</td>\n",
       "      <td>1980-12-16</td>\n",
       "      <td>Administrative Officer</td>\n",
       "      <td>Financial Services</td>\n",
       "      <td>Mass Customer</td>\n",
       "      <td>N</td>\n",
       "      <td>Yes</td>\n",
       "      <td>16.0</td>\n",
       "    </tr>\n",
       "    <tr>\n",
       "      <th>2</th>\n",
       "      <td>3</td>\n",
       "      <td>Arlin</td>\n",
       "      <td>Dearle</td>\n",
       "      <td>Male</td>\n",
       "      <td>61</td>\n",
       "      <td>1954-01-20</td>\n",
       "      <td>Recruiting Manager</td>\n",
       "      <td>Property</td>\n",
       "      <td>Mass Customer</td>\n",
       "      <td>N</td>\n",
       "      <td>Yes</td>\n",
       "      <td>15.0</td>\n",
       "    </tr>\n",
       "    <tr>\n",
       "      <th>3</th>\n",
       "      <td>4</td>\n",
       "      <td>Talbot</td>\n",
       "      <td>Pristnor</td>\n",
       "      <td>Male</td>\n",
       "      <td>33</td>\n",
       "      <td>1961-10-03</td>\n",
       "      <td>Business Systems Development Analyst</td>\n",
       "      <td>IT</td>\n",
       "      <td>Mass Customer</td>\n",
       "      <td>N</td>\n",
       "      <td>No</td>\n",
       "      <td>7.0</td>\n",
       "    </tr>\n",
       "    <tr>\n",
       "      <th>4</th>\n",
       "      <td>5</td>\n",
       "      <td>Sheila-kathryn</td>\n",
       "      <td>Calton</td>\n",
       "      <td>Female</td>\n",
       "      <td>56</td>\n",
       "      <td>1977-05-13</td>\n",
       "      <td>Senior Editor</td>\n",
       "      <td>Manufacturing</td>\n",
       "      <td>Affluent Customer</td>\n",
       "      <td>N</td>\n",
       "      <td>Yes</td>\n",
       "      <td>8.0</td>\n",
       "    </tr>\n",
       "    <tr>\n",
       "      <th>...</th>\n",
       "      <td>...</td>\n",
       "      <td>...</td>\n",
       "      <td>...</td>\n",
       "      <td>...</td>\n",
       "      <td>...</td>\n",
       "      <td>...</td>\n",
       "      <td>...</td>\n",
       "      <td>...</td>\n",
       "      <td>...</td>\n",
       "      <td>...</td>\n",
       "      <td>...</td>\n",
       "      <td>...</td>\n",
       "    </tr>\n",
       "    <tr>\n",
       "      <th>3994</th>\n",
       "      <td>3995</td>\n",
       "      <td>Rusty</td>\n",
       "      <td>Iapico</td>\n",
       "      <td>Male</td>\n",
       "      <td>93</td>\n",
       "      <td>1975-12-12</td>\n",
       "      <td>Staff Scientist</td>\n",
       "      <td>Manufacturing</td>\n",
       "      <td>Mass Customer</td>\n",
       "      <td>N</td>\n",
       "      <td>Yes</td>\n",
       "      <td>14.0</td>\n",
       "    </tr>\n",
       "    <tr>\n",
       "      <th>3995</th>\n",
       "      <td>3996</td>\n",
       "      <td>Rosalia</td>\n",
       "      <td>Halgarth</td>\n",
       "      <td>Female</td>\n",
       "      <td>8</td>\n",
       "      <td>1975-08-09</td>\n",
       "      <td>VP Product Management</td>\n",
       "      <td>Health</td>\n",
       "      <td>Mass Customer</td>\n",
       "      <td>N</td>\n",
       "      <td>No</td>\n",
       "      <td>19.0</td>\n",
       "    </tr>\n",
       "    <tr>\n",
       "      <th>3996</th>\n",
       "      <td>3997</td>\n",
       "      <td>Blanch</td>\n",
       "      <td>Nisuis</td>\n",
       "      <td>Female</td>\n",
       "      <td>87</td>\n",
       "      <td>2001-07-13</td>\n",
       "      <td>Statistician II</td>\n",
       "      <td>Manufacturing</td>\n",
       "      <td>High Net Worth</td>\n",
       "      <td>N</td>\n",
       "      <td>Yes</td>\n",
       "      <td>1.0</td>\n",
       "    </tr>\n",
       "    <tr>\n",
       "      <th>3998</th>\n",
       "      <td>3999</td>\n",
       "      <td>Patrizius</td>\n",
       "      <td>Pristnor</td>\n",
       "      <td>Male</td>\n",
       "      <td>11</td>\n",
       "      <td>1973-10-24</td>\n",
       "      <td>Business Systems Development Analyst</td>\n",
       "      <td>Manufacturing</td>\n",
       "      <td>Affluent Customer</td>\n",
       "      <td>N</td>\n",
       "      <td>Yes</td>\n",
       "      <td>10.0</td>\n",
       "    </tr>\n",
       "    <tr>\n",
       "      <th>3999</th>\n",
       "      <td>4000</td>\n",
       "      <td>Kippy</td>\n",
       "      <td>Oldland</td>\n",
       "      <td>Male</td>\n",
       "      <td>76</td>\n",
       "      <td>1991-11-05</td>\n",
       "      <td>Software Engineer IV</td>\n",
       "      <td>Manufacturing</td>\n",
       "      <td>Affluent Customer</td>\n",
       "      <td>N</td>\n",
       "      <td>No</td>\n",
       "      <td>11.0</td>\n",
       "    </tr>\n",
       "  </tbody>\n",
       "</table>\n",
       "<p>3912 rows × 12 columns</p>\n",
       "</div>"
      ],
      "text/plain": [
       "      customer_id      first_name  last_name  gender  \\\n",
       "0               1         Laraine  Medendorp  Female   \n",
       "1               2             Eli    Bockman    Male   \n",
       "2               3           Arlin     Dearle    Male   \n",
       "3               4          Talbot   Pristnor    Male   \n",
       "4               5  Sheila-kathryn     Calton  Female   \n",
       "...           ...             ...        ...     ...   \n",
       "3994         3995           Rusty     Iapico    Male   \n",
       "3995         3996         Rosalia   Halgarth  Female   \n",
       "3996         3997          Blanch     Nisuis  Female   \n",
       "3998         3999       Patrizius   Pristnor    Male   \n",
       "3999         4000           Kippy    Oldland    Male   \n",
       "\n",
       "      past_3_years_bike_related_purchases        DOB  \\\n",
       "0                                      93 1953-10-12   \n",
       "1                                      81 1980-12-16   \n",
       "2                                      61 1954-01-20   \n",
       "3                                      33 1961-10-03   \n",
       "4                                      56 1977-05-13   \n",
       "...                                   ...        ...   \n",
       "3994                                   93 1975-12-12   \n",
       "3995                                    8 1975-08-09   \n",
       "3996                                   87 2001-07-13   \n",
       "3998                                   11 1973-10-24   \n",
       "3999                                   76 1991-11-05   \n",
       "\n",
       "                                 job_title job_industry_category  \\\n",
       "0                      Executive Secretary                Health   \n",
       "1                   Administrative Officer    Financial Services   \n",
       "2                       Recruiting Manager              Property   \n",
       "3     Business Systems Development Analyst                    IT   \n",
       "4                            Senior Editor         Manufacturing   \n",
       "...                                    ...                   ...   \n",
       "3994                       Staff Scientist         Manufacturing   \n",
       "3995                 VP Product Management                Health   \n",
       "3996                       Statistician II         Manufacturing   \n",
       "3998  Business Systems Development Analyst         Manufacturing   \n",
       "3999                  Software Engineer IV         Manufacturing   \n",
       "\n",
       "         wealth_segment deceased_indicator owns_car  tenure  \n",
       "0         Mass Customer                  N      Yes    11.0  \n",
       "1         Mass Customer                  N      Yes    16.0  \n",
       "2         Mass Customer                  N      Yes    15.0  \n",
       "3         Mass Customer                  N       No     7.0  \n",
       "4     Affluent Customer                  N      Yes     8.0  \n",
       "...                 ...                ...      ...     ...  \n",
       "3994      Mass Customer                  N      Yes    14.0  \n",
       "3995      Mass Customer                  N       No    19.0  \n",
       "3996     High Net Worth                  N      Yes     1.0  \n",
       "3998  Affluent Customer                  N      Yes    10.0  \n",
       "3999  Affluent Customer                  N       No    11.0  \n",
       "\n",
       "[3912 rows x 12 columns]"
      ]
     },
     "execution_count": 26,
     "metadata": {},
     "output_type": "execute_result"
    }
   ],
   "source": [
    "# drop unspecified values of gender column \n",
    "customer_demographic.drop(customer_demographic[customer_demographic['gender'] == 'Unspecified'].index, inplace=True)\n",
    "customer_demographic"
   ]
  },
  {
   "cell_type": "code",
   "execution_count": 27,
   "metadata": {},
   "outputs": [
    {
     "data": {
      "text/plain": [
       "count                             3912\n",
       "mean     1977-07-25 11:13:15.092024544\n",
       "min                1931-10-23 00:00:00\n",
       "25%                1968-01-25 00:00:00\n",
       "50%                1977-07-25 00:00:00\n",
       "75%                1987-02-28 06:00:00\n",
       "max                2002-03-11 00:00:00\n",
       "Name: DOB, dtype: object"
      ]
     },
     "execution_count": 27,
     "metadata": {},
     "output_type": "execute_result"
    }
   ],
   "source": [
    "# check unique values of 'DOB' column\n",
    "customer_demographic['DOB'].describe()"
   ]
  },
  {
   "cell_type": "code",
   "execution_count": 28,
   "metadata": {},
   "outputs": [
    {
     "data": {
      "text/plain": [
       "array(['N', 'Y'], dtype=object)"
      ]
     },
     "execution_count": 28,
     "metadata": {},
     "output_type": "execute_result"
    }
   ],
   "source": [
    "# check unique values of 'deceased_indicator' column\n",
    "customer_demographic['deceased_indicator'].unique()"
   ]
  },
  {
   "cell_type": "code",
   "execution_count": 29,
   "metadata": {},
   "outputs": [
    {
     "data": {
      "text/plain": [
       "deceased_indicator\n",
       "N    3910\n",
       "Y       2\n",
       "Name: count, dtype: int64"
      ]
     },
     "execution_count": 29,
     "metadata": {},
     "output_type": "execute_result"
    }
   ],
   "source": [
    "# count unique values of 'deceased_indicator' column\n",
    "customer_demographic['deceased_indicator'].value_counts()"
   ]
  },
  {
   "cell_type": "code",
   "execution_count": 30,
   "metadata": {},
   "outputs": [],
   "source": [
    "# drop all rows where 'deceased_indicator' is equal to 'Y',\n",
    "customer_demographic.drop(customer_demographic[customer_demographic['deceased_indicator'] == 'Y'].index, inplace=True)"
   ]
  },
  {
   "cell_type": "code",
   "execution_count": 31,
   "metadata": {},
   "outputs": [
    {
     "data": {
      "text/plain": [
       "deceased_indicator\n",
       "N    3910\n",
       "Name: count, dtype: int64"
      ]
     },
     "execution_count": 31,
     "metadata": {},
     "output_type": "execute_result"
    }
   ],
   "source": [
    "# count unique values of 'deceased_indicator' column\n",
    "customer_demographic['deceased_indicator'].value_counts()"
   ]
  },
  {
   "cell_type": "code",
   "execution_count": 32,
   "metadata": {},
   "outputs": [],
   "source": [
    "# function converts given date to age\n",
    "def from_dob_to_age(born):\n",
    "    today = dt.date.today()\n",
    "    return today.year - born.year - ((today.month, today.day) < (born.month, born.day))"
   ]
  },
  {
   "cell_type": "code",
   "execution_count": null,
   "metadata": {},
   "outputs": [],
   "source": []
  },
  {
   "cell_type": "code",
   "execution_count": 33,
   "metadata": {},
   "outputs": [],
   "source": [
    "# apply function on the DOB column\n",
    "customer_demographic['age']=customer_demographic['DOB'].apply(lambda x: from_dob_to_age(x))"
   ]
  },
  {
   "cell_type": "code",
   "execution_count": 36,
   "metadata": {},
   "outputs": [
    {
     "data": {
      "text/plain": [
       "count    3910.000000\n",
       "mean       45.954987\n",
       "std        12.617076\n",
       "min        21.000000\n",
       "25%        36.000000\n",
       "50%        46.000000\n",
       "75%        55.000000\n",
       "max        92.000000\n",
       "Name: age, dtype: float64"
      ]
     },
     "execution_count": 36,
     "metadata": {},
     "output_type": "execute_result"
    }
   ],
   "source": [
    "# check unique values of 'DOB' column\n",
    "customer_demographic['age'].describe()"
   ]
  },
  {
   "cell_type": "code",
   "execution_count": 34,
   "metadata": {},
   "outputs": [],
   "source": [
    "# divide age group\n",
    "Age_group = pd.cut(customer_demographic.age, bins = [20,30,50,70,92], labels= ['20-30','31-50','51-70','71-92'])\n",
    "customer_demographic.insert(13, 'age_group', Age_group)"
   ]
  },
  {
   "cell_type": "code",
   "execution_count": 35,
   "metadata": {},
   "outputs": [],
   "source": [
    "customer_demographic.to_csv(r\"d:\\OneDrive\\Máy tính\\Segmentation\\customer_demographic.csv\", index=False)"
   ]
  }
 ],
 "metadata": {
  "kernelspec": {
   "display_name": "Python 3",
   "language": "python",
   "name": "python3"
  },
  "language_info": {
   "codemirror_mode": {
    "name": "ipython",
    "version": 3
   },
   "file_extension": ".py",
   "mimetype": "text/x-python",
   "name": "python",
   "nbconvert_exporter": "python",
   "pygments_lexer": "ipython3",
   "version": "3.11.4"
  }
 },
 "nbformat": 4,
 "nbformat_minor": 2
}
